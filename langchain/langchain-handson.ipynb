{
 "cells": [
  {
   "cell_type": "code",
   "execution_count": null,
   "metadata": {},
   "outputs": [
    {
     "name": "stdout",
     "output_type": "stream",
     "text": [
      "Note: you may need to restart the kernel to use updated packages.\n"
     ]
    }
   ],
   "source": [
    "#Add pip libraries required for this project\n",
    "%pip install -qU langchain-core langchain-google-genai langchain\n",
    "#%pip install -qU langchain-google-vertexai"
   ]
  },
  {
   "cell_type": "code",
   "execution_count": null,
   "metadata": {},
   "outputs": [],
   "source": [
    "import os\n",
    "from langchain_google_genai import ChatGoogleGenerativeAI\n",
    "os.environ['GEMINI_API_KEY'] = '' #replace with your Gemini API key\n",
    "\n",
    "model = ChatGoogleGenerativeAI(model=\"gemini-1.5-flash\",api_key=os.getenv('GEMINI_API_KEY'))"
   ]
  },
  {
   "cell_type": "code",
   "execution_count": 48,
   "metadata": {},
   "outputs": [
    {
     "data": {
      "text/markdown": [
       "LangChain is an open-source framework that simplifies the development of applications powered by large language models (LLMs). It acts as a bridge between LLMs and real-world data, enabling them to access and process information from various sources. This allows for more sophisticated and contextualized interactions with LLMs.\n",
       "\n",
       "LangChain provides building blocks for building LLM-powered applications, including:\n",
       "\n",
       "* **Chains:** Sequences of operations that combine LLMs with other components.\n",
       "* **Indexes:** Mechanisms to access and query external data sources.\n",
       "* **Agents:** Autonomous systems that use LLMs to make decisions and take actions.\n",
       "\n",
       "By streamlining the integration of LLMs with data and other tools, LangChain empowers developers to build powerful and innovative applications.\n"
      ],
      "text/plain": [
       "<IPython.core.display.Markdown object>"
      ]
     },
     "metadata": {},
     "output_type": "display_data"
    }
   ],
   "source": [
    "from IPython.display import display, Markdown\n",
    "\n",
    "response = model.invoke(\"Summarize in 150 words about langchain\")\n",
    "display(Markdown(response.content))"
   ]
  },
  {
   "cell_type": "code",
   "execution_count": 50,
   "metadata": {},
   "outputs": [
    {
     "name": "stdout",
     "output_type": "stream",
     "text": [
      "{'lc': 1, 'type': 'constructor', 'id': ['langchain', 'prompts', 'chat', 'ChatPromptTemplate'], 'kwargs': {'input_variables': ['history', 'input'], 'messages': [SystemMessagePromptTemplate(prompt=PromptTemplate(input_variables=[], input_types={}, partial_variables={}, template='You are a helpful assistant. Answer all questions to the best of your ability.'), additional_kwargs={}), MessagesPlaceholder(variable_name='history'), HumanMessagePromptTemplate(prompt=PromptTemplate(input_variables=['input'], input_types={}, partial_variables={}, template='{input}'), additional_kwargs={})]}, 'name': 'ChatPromptTemplate'}\n",
      "User: Hello, Ranjit here\n",
      "AI: Hello Ranjit! 👋  It's nice to meet you. How can I help you today? 😊 \n",
      "\n",
      "User: How are you doing today\n",
      "AI: I'm doing well, thank you for asking! 😊  I'm always ready to help with any questions or tasks you have.  What about you, how is your day going? \n",
      "\n",
      "User: You remember my name\n",
      "AI: That's right! I do remember your name, Ranjit.  I'm still learning and getting better at remembering things, but I'm happy I could recall your name.  It makes our conversation feel more personal, don't you think? 😊 \n",
      "\n",
      "User: coool, Can you crack a joke for the day\n",
      "AI: Why don't scientists trust atoms? \n",
      "\n",
      "Because they make up everything! 😜 \n",
      "\n",
      "Let me know if you want to hear another one. 😊 \n",
      "\n",
      "User: write a poetry on day of the week which rhymes well\n",
      "AI: The week unfolds, a tapestry of days,\n",
      "From Monday's dawn to Friday's sunlit rays.\n",
      "Each holds a story, a rhythm, a beat,\n",
      "A symphony of time, both sweet and fleet.\n",
      "\n",
      "Monday, a fresh start, a chance to begin,\n",
      "With plans and ambitions, a hopeful grin.\n",
      "Tuesday, a climb, a steady, sure pace,\n",
      "As tasks are completed, a smile on your face.\n",
      "\n",
      "Wednesday, a hump, a mid-week stride,\n",
      "Where energy wanes, but the spirit does ride.\n",
      "Thursday, a promise of the weekend's delight,\n",
      "A day to look forward, with all your might.\n",
      "\n",
      "Friday, a joyous shout, a freedom attained,\n",
      "A time to relax, where worries are chained.\n",
      "Saturday, a canvas, a blank, open page,\n",
      "To fill with adventures, to turn a new stage.\n",
      "\n",
      "Sunday, a pause, a moment to reflect,\n",
      "On the week that has passed, every joy and defect.\n",
      "A day for recharging, for peace and for calm,\n",
      "Before the week starts, a new, vibrant psalm. \n",
      "\n",
      "User: \n",
      "AI: I'm here, waiting for your next question or request! 😊  What would you like to talk about or do now? \n",
      "\n",
      "Ending the conversation....\n"
     ]
    }
   ],
   "source": [
    "from langchain.chains import ConversationChain\n",
    "from langchain.memory import ConversationBufferMemory\n",
    "from langchain_core.prompts import ChatPromptTemplate,MessagesPlaceholder\n",
    "\n",
    "# Define a memory to hold conversation history\n",
    "memory = ConversationBufferMemory(memory_key=\"history\", input_key=\"input\", return_messages=True)\n",
    "\n",
    "chat_prompt = ChatPromptTemplate.from_messages([\n",
    "    (\"system\", \"You are a helpful assistant. Answer all questions to the best of your ability.\"),\n",
    "    MessagesPlaceholder(variable_name=\"history\"),\n",
    "    (\"user\", \"{input}\")\n",
    "])\n",
    "\n",
    "print(chat_prompt.to_json())\n",
    "\n",
    "\n",
    "# Create a conversational chain with the model and memory\n",
    "conversation = ConversationChain(\n",
    "    llm=model,\n",
    "    prompt=chat_prompt,\n",
    "    verbose=False,\n",
    "    memory=memory,\n",
    "    input_key=\"input\",\n",
    ")\n",
    "\n",
    "# Start a conversation loop that continues until the user types \"exit or quit\"\n",
    "while True:\n",
    "    user_input = input(\"User: \")\n",
    "    if user_input.lower() in [\"exit\", \"quit\"]:\n",
    "        print(\"Ending the conversation....\")\n",
    "        #print(memory.buffer)\n",
    "        break   \n",
    "\n",
    "    # Generate response from the conversational chain\n",
    "    response = conversation.predict(input=user_input)\n",
    "\n",
    "    try:\n",
    "        # Display response as plain text\n",
    "        print(\"User:\", user_input)\n",
    "        print(\"AI:\", response)\n",
    "    except Exception as e:\n",
    "        memory.buffer.clear()\n",
    "        print(f\"An error occurred: {str(e)}\")\n",
    "        print(\"Please try again or rephrase your query.\")\n",
    "        "
   ]
  },
  {
   "cell_type": "code",
   "execution_count": 51,
   "metadata": {},
   "outputs": [
    {
     "data": {
      "text/markdown": [
       "\n",
       " Generated Receipie: \n"
      ],
      "text/plain": [
       "<IPython.core.display.Markdown object>"
      ]
     },
     "metadata": {},
     "output_type": "display_data"
    },
    {
     "data": {
      "text/markdown": [
       "##  Creamy Butter Chicken with a Kick (Non-Vegetarian)\n",
       "\n",
       "This recipe offers a classic Butter Chicken experience with a touch of spice and a creamy, rich sauce. It's perfect for those who enjoy a balance of flavor and heat.\n",
       "\n",
       "**Yields:** 4 Servings\n",
       "**Prep Time:** 20 minutes\n",
       "**Cook Time:** 30 minutes \n",
       "\n",
       "**Ingredients:**\n",
       "\n",
       "**For the Chicken:**\n",
       "\n",
       "* 1 lb boneless, skinless chicken thighs, cut into 1-inch pieces\n",
       "* 1 tbsp olive oil\n",
       "* 1 tsp ground cumin\n",
       "* 1 tsp ground coriander\n",
       "* 1/2 tsp turmeric powder\n",
       "* 1/2 tsp chili powder\n",
       "* 1/4 tsp garam masala\n",
       "* Salt to taste\n",
       "\n",
       "**For the Sauce:**\n",
       "\n",
       "* 1 large onion, finely chopped\n",
       "* 2 cloves garlic, minced\n",
       "* 1 inch ginger, grated\n",
       "* 1 tbsp tomato paste\n",
       "* 1 (14.5 oz) can diced tomatoes, undrained\n",
       "* 1 cup heavy cream\n",
       "* 1/2 cup water\n",
       "* 1 tbsp butter\n",
       "* 1 tsp garam masala\n",
       "* 1/2 tsp chili powder (adjust to taste)\n",
       "* Salt to taste\n",
       "* Fresh cilantro, chopped, for garnish\n",
       "\n",
       "**Instructions:**\n",
       "\n",
       "1. **Marinate the Chicken:** In a bowl, combine the chicken pieces with olive oil, cumin, coriander, turmeric, chili powder, garam masala, and salt. Mix well and set aside to marinate for at least 30 minutes. \n",
       "2. **Cook the Chicken:** Heat a large skillet over medium heat. Add the marinated chicken and cook until browned on all sides, about 5-7 minutes. Remove the chicken from the skillet and set aside.\n",
       "3. **Make the Sauce:** In the same skillet, add the chopped onion and cook until softened, about 5 minutes. Add the minced garlic and grated ginger and cook for another minute. Stir in the tomato paste and cook for 1 minute more.\n",
       "4. **Add the Tomatoes and Cream:** Add the diced tomatoes and water to the skillet. Bring to a simmer and cook for 10 minutes, stirring occasionally. Stir in the heavy cream, butter, garam masala, chili powder, and salt. Simmer for 5 minutes until the sauce thickens. \n",
       "5. **Combine Chicken and Sauce:** Return the cooked chicken to the skillet and coat with the sauce. Simmer for 5 minutes until the chicken is cooked through and the sauce is flavorful. \n",
       "6. **Serve:** Garnish with chopped cilantro and serve hot with basmati rice, naan bread, or roti.\n",
       "\n",
       "**Tips:**\n",
       "\n",
       "* For a milder flavor, reduce the amount of chili powder.\n",
       "* You can use chicken breasts instead of thighs, but they may dry out more quickly.\n",
       "* Add a teaspoon of sugar to the sauce for a slightly sweeter flavor.\n",
       "* For a richer sauce, use full-fat coconut milk instead of heavy cream.\n",
       "* Feel free to experiment with different spices and herbs to customize your Butter Chicken.\n",
       "\n",
       "Enjoy this delicious and satisfying Butter Chicken!"
      ],
      "text/plain": [
       "<IPython.core.display.Markdown object>"
      ]
     },
     "metadata": {},
     "output_type": "display_data"
    },
    {
     "name": "stdout",
     "output_type": "stream",
     "text": [
      "None None\n"
     ]
    },
    {
     "data": {
      "text/markdown": [
       "\n",
       " Shopping List: \n"
      ],
      "text/plain": [
       "<IPython.core.display.Markdown object>"
      ]
     },
     "metadata": {},
     "output_type": "display_data"
    },
    {
     "data": {
      "text/markdown": [
       "##  Butter Chicken Shopping List \n",
       "\n",
       "**Produce:**\n",
       "\n",
       "* 1 large onion\n",
       "* 2 cloves garlic\n",
       "* 1 inch ginger\n",
       "* Fresh cilantro (for garnish)\n",
       "\n",
       "**Meat:**\n",
       "\n",
       "* 1 lb boneless, skinless chicken thighs\n",
       "\n",
       "**Canned Goods:**\n",
       "\n",
       "* 1 (14.5 oz) can diced tomatoes (undrained)\n",
       "\n",
       "**Dairy:**\n",
       "\n",
       "* 1 cup heavy cream\n",
       "* 1 tbsp butter\n",
       "\n",
       "**Spices:**\n",
       "\n",
       "* 1 tbsp ground cumin\n",
       "* 1 tbsp ground coriander\n",
       "* 1/2 tsp turmeric powder\n",
       "* 1/2 tsp chili powder \n",
       "* 1/4 tsp garam masala \n",
       "* 1 tsp garam masala (for sauce)\n",
       "* 1/2 tsp chili powder (for sauce) - adjust to taste\n",
       "\n",
       "**Other:**\n",
       "\n",
       "* 1 tbsp olive oil\n",
       "* 1 tbsp tomato paste\n",
       "* Salt (to taste)\n",
       "\n",
       "**Optional:**\n",
       "\n",
       "* Sugar (for a sweeter flavor)\n",
       "* Full-fat coconut milk (for a richer sauce)\n",
       "* Basmati rice, naan bread, or roti (for serving) \n"
      ],
      "text/plain": [
       "<IPython.core.display.Markdown object>"
      ]
     },
     "metadata": {},
     "output_type": "display_data"
    },
    {
     "name": "stdout",
     "output_type": "stream",
     "text": [
      "None None\n"
     ]
    }
   ],
   "source": [
    "from langchain.chains import LLMChain, SequentialChain\n",
    "from langchain.prompts import PromptTemplate\n",
    "\n",
    "#build a receipie prompt\n",
    "recepie_prompt = PromptTemplate.from_template(\n",
    "    \"Create a recipe using the following ingredients or idea: {ingredient}.\"  \n",
    "    \"Consider the user's dietary preferences {dietary_preferences}.\"  \n",
    ")\n",
    "\n",
    "recepie_chain = LLMChain(\n",
    "    llm=model,\n",
    "    prompt=recepie_prompt,\n",
    "    output_key=\"recipe\",\n",
    "    verbose=False\n",
    ")\n",
    "\n",
    "#build a shopping list prompt\n",
    "shopping_list_prompt = PromptTemplate.from_template(\n",
    "    \"Based on the following receipe, Create a shopping list of ingredients: \\n\\n {recipe}.\"\n",
    ")\n",
    "\n",
    "shopping_list_chain = LLMChain(\n",
    "    llm=model,\n",
    "    prompt=shopping_list_prompt,\n",
    "    #input_keys=[\"recipe\"],\n",
    "    output_key=\"shopping_list\",\n",
    "    verbose=False\n",
    ")\n",
    "\n",
    "#Combine the recepie and shopping list chains \n",
    "receipie_sequential_chain = SequentialChain(\n",
    "    chains=[recepie_chain, shopping_list_chain],\n",
    "    input_variables=[\"ingredient\", \"dietary_preferences\"],\n",
    "    output_variables=[\"recipe\", \"shopping_list\"],\n",
    "    verbose=False\n",
    ")\n",
    "\n",
    "# prompt the user for the ingredients and dietary preferences\n",
    "ingredient = input(\"Enter the ingredients: \")\n",
    "dietary_preferences = input(\"Enter the dietary preferences: \")\n",
    "\n",
    "# Create dictionary of input values\n",
    "input_data = {\n",
    "    \"ingredient\": ingredient,\n",
    "    \"dietary_preferences\": dietary_preferences\n",
    "}\n",
    "\n",
    "#run the sequential chain with the input data\n",
    "output_data = receipie_sequential_chain(input_data)\n",
    "\n",
    "#display the recipe and shopping list\n",
    "print(display(Markdown(\"\\n Generated Receipie: \\n\")), display(Markdown(output_data[\"recipe\"])))\n",
    "print(display(Markdown(\"\\n Shopping List: \\n\")), display(Markdown(output_data[\"shopping_list\"])))\n"
   ]
  }
 ],
 "metadata": {
  "kernelspec": {
   "display_name": ".venv",
   "language": "python",
   "name": "python3"
  },
  "language_info": {
   "codemirror_mode": {
    "name": "ipython",
    "version": 3
   },
   "file_extension": ".py",
   "mimetype": "text/x-python",
   "name": "python",
   "nbconvert_exporter": "python",
   "pygments_lexer": "ipython3",
   "version": "3.11.9"
  }
 },
 "nbformat": 4,
 "nbformat_minor": 2
}
